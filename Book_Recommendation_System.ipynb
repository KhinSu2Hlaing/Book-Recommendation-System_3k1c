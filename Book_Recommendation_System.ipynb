{
  "nbformat": 4,
  "nbformat_minor": 0,
  "metadata": {
    "colab": {
      "provenance": [],
      "authorship_tag": "ABX9TyOB05R1wFg0eCSYdauOghK5",
      "include_colab_link": true
    },
    "kernelspec": {
      "name": "python3",
      "display_name": "Python 3"
    },
    "language_info": {
      "name": "python"
    }
  },
  "cells": [
    {
      "cell_type": "markdown",
      "metadata": {
        "id": "view-in-github",
        "colab_type": "text"
      },
      "source": [
        "<a href=\"https://colab.research.google.com/github/KhinSu2Hlaing/Book-Recommendation-System_3k1c/blob/main/Book_Recommendation_System.ipynb\" target=\"_parent\"><img src=\"https://colab.research.google.com/assets/colab-badge.svg\" alt=\"Open In Colab\"/></a>"
      ]
    },
    {
      "cell_type": "code",
      "execution_count": null,
      "metadata": {
        "id": "9G78kCyJWORc"
      },
      "outputs": [],
      "source": [
        "# Importing required libraries\n",
        "import numpy as np\n",
        "import pandas as pd\n",
        "import pickle"
      ]
    },
    {
      "cell_type": "code",
      "source": [
        "#Loading Dataset\n",
        "book = pd.read_csv('/content/Books.csv')\n",
        "user = pd.read_csv('/content/Users.csv')\n",
        "rating = pd.read_csv('/content/Ratings.csv')"
      ],
      "metadata": {
        "colab": {
          "base_uri": "https://localhost:8080/"
        },
        "id": "e6TN09sVWaHi",
        "outputId": "5e3d6eaa-e990-423a-df44-e3afe91a74dd"
      },
      "execution_count": null,
      "outputs": [
        {
          "output_type": "stream",
          "name": "stderr",
          "text": [
            "<ipython-input-8-b231f86bdc8e>:2: DtypeWarning: Columns (3) have mixed types. Specify dtype option on import or set low_memory=False.\n",
            "  book = pd.read_csv('/content/Books.csv')\n"
          ]
        }
      ]
    },
    {
      "cell_type": "code",
      "source": [
        "# Exploratory Data Analysis\n",
        "book.tail()\n",
        "user.tail()\n",
        "rating.tail()\n",
        "print(book.shape)\n",
        "print(user.shape)\n",
        "print(rating.shape)\n",
        "\n",
        "book.isnull().sum()\n",
        "user.isnull().sum()\n",
        "rating.isnull().sum()\n",
        "book.duplicated().sum()\n",
        "user.duplicated().sum()\n",
        "rating.duplicated().sum()\n",
        "user.info()\n",
        "book.info()\n",
        "rating.info()"
      ],
      "metadata": {
        "colab": {
          "base_uri": "https://localhost:8080/"
        },
        "id": "zQDkRQ4AXJVA",
        "outputId": "918f9d1b-50c7-4e7b-8e62-013885ad996e"
      },
      "execution_count": null,
      "outputs": [
        {
          "output_type": "stream",
          "name": "stdout",
          "text": [
            "(271360, 8)\n",
            "(278858, 3)\n",
            "(1149780, 3)\n",
            "<class 'pandas.core.frame.DataFrame'>\n",
            "RangeIndex: 278858 entries, 0 to 278857\n",
            "Data columns (total 3 columns):\n",
            " #   Column    Non-Null Count   Dtype  \n",
            "---  ------    --------------   -----  \n",
            " 0   User-ID   278858 non-null  int64  \n",
            " 1   Location  278858 non-null  object \n",
            " 2   Age       168096 non-null  float64\n",
            "dtypes: float64(1), int64(1), object(1)\n",
            "memory usage: 6.4+ MB\n",
            "<class 'pandas.core.frame.DataFrame'>\n",
            "RangeIndex: 271360 entries, 0 to 271359\n",
            "Data columns (total 8 columns):\n",
            " #   Column               Non-Null Count   Dtype \n",
            "---  ------               --------------   ----- \n",
            " 0   ISBN                 271360 non-null  object\n",
            " 1   Book-Title           271360 non-null  object\n",
            " 2   Book-Author          271358 non-null  object\n",
            " 3   Year-Of-Publication  271360 non-null  object\n",
            " 4   Publisher            271358 non-null  object\n",
            " 5   Image-URL-S          271360 non-null  object\n",
            " 6   Image-URL-M          271360 non-null  object\n",
            " 7   Image-URL-L          271357 non-null  object\n",
            "dtypes: object(8)\n",
            "memory usage: 16.6+ MB\n",
            "<class 'pandas.core.frame.DataFrame'>\n",
            "RangeIndex: 1149780 entries, 0 to 1149779\n",
            "Data columns (total 3 columns):\n",
            " #   Column       Non-Null Count    Dtype \n",
            "---  ------       --------------    ----- \n",
            " 0   User-ID      1149780 non-null  int64 \n",
            " 1   ISBN         1149780 non-null  object\n",
            " 2   Book-Rating  1149780 non-null  int64 \n",
            "dtypes: int64(2), object(1)\n",
            "memory usage: 26.3+ MB\n"
          ]
        }
      ]
    },
    {
      "cell_type": "code",
      "source": [
        "# Merging rating and book dataframes\n",
        "rating_with_name = rating.merge(book, on='ISBN')\n",
        "\n",
        "# Calculating the number of ratings and average rating for each book\n",
        "num_rating_df = rating_with_name.groupby('Book-Title').count()['Book-Rating'].reset_index()\n",
        "num_rating_df.rename(columns={'Book-Rating': 'Num_rating'}, inplace=True)\n",
        "\n",
        "avg_rating_df = rating_with_name.groupby('Book-Title').mean(numeric_only=True)['Book-Rating'].reset_index()\n",
        "avg_rating_df.rename(columns={'Book-Rating': 'Avg_rating'}, inplace=True)\n",
        "\n",
        "# Merging popularity dataframes and filtering top 100 popular books\n",
        "popular_df = num_rating_df.merge(avg_rating_df, on='Book-Title')\n",
        "pbr_df = popular_df[popular_df['Num_rating'] >= 300].sort_values('Avg_rating', ascending=False).head(100)\n",
        "\n",
        "# Selecting relevant columns for recommendation\n",
        "pbr_df = pbr_df.merge(book, on='Book-Title').drop_duplicates('Book-Title')[['Book-Title', 'Book-Author', 'Publisher', 'Image-URL-M', 'Num_rating', 'Avg_rating']]\n",
        "\n",
        "# Saving the popularity-based recommendation data into a pickle file\n",
        "pickle.dump(pbr_df, open('PopularBookRecommendation.pkl', 'wb'))"
      ],
      "metadata": {
        "id": "Oke_9yG0XskC"
      },
      "execution_count": null,
      "outputs": []
    },
    {
      "cell_type": "code",
      "source": [
        "# Filtering users who have given ratings to at least 250 books\n",
        "b = rating_with_name.groupby('User-ID').count()['Book-Rating'] > 250\n",
        "users_with_ratings = b[b].index\n",
        "filtered_rating = rating_with_name[rating_with_name['User-ID'].isin(users_with_ratings)]\n",
        "\n",
        "# Filtering books that have ratings from at least 50 users\n",
        "c = filtered_rating.groupby('Book-Title').count()['Book-Rating'] >= 50\n",
        "famous_books = c[c].index\n",
        "final_ratings = filtered_rating[filtered_rating['Book-Title'].isin(famous_books)]\n",
        "\n",
        "# Creating a pivot table for collaborative filtering\n",
        "pt = final_ratings.pivot_table(index='Book-Title', columns='User-ID', values='Book-Rating')\n",
        "pt.fillna(0, inplace=True)\n",
        "\n",
        "# Calculating cosine similarity for collaborative filtering\n",
        "from sklearn.metrics.pairwise import cosine_similarity\n",
        "similarity_scores = cosine_similarity(pt)\n",
        "\n",
        "# Function to recommend similar books\n",
        "def recommendation(book_name):\n",
        "    # Fetching index\n",
        "    index = np.where(np.array(list(pt.index)) == book_name)[0][0]\n",
        "    similar_items = sorted(list(enumerate(similarity_scores[index])), reverse=True, key=lambda x: x[1])[1:9]\n",
        "\n",
        "    data = []\n",
        "    for i in similar_items:\n",
        "        item = []\n",
        "        temp_df = book[book['Book-Title'] == pt.index[i[0]]]\n",
        "        item.extend(list(temp_df.drop_duplicates('Book-Title')['Book-Title'].values))\n",
        "        item.extend(list(temp_df.drop_duplicates('Book-Title')['Book-Author'].values))\n",
        "        item.extend(list(temp_df.drop_duplicates('Book-Title')['Image-URL-M'].values))\n",
        "        data.append(item)\n",
        "    return data\n",
        "\n",
        "# Saving collaborative filtering data into pickle files\n",
        "pickle.dump(pt, open('pt.pkl', 'wb'))\n",
        "pickle.dump(book, open('book.pkl', 'wb'))\n",
        "pickle.dump(similarity_scores, open('similarity_scores.pkl', 'wb'))"
      ],
      "metadata": {
        "id": "wxJP2oHDZSyE"
      },
      "execution_count": null,
      "outputs": []
    }
  ]
}